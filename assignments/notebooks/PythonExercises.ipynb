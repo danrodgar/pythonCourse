{
 "cells": [
  {
   "cell_type": "markdown",
   "metadata": {},
   "source": [
    "# Python exercises"
   ]
  },
  {
   "cell_type": "markdown",
   "metadata": {},
   "source": [
    "## Operators"
   ]
  },
  {
   "cell_type": "markdown",
   "metadata": {},
   "source": [
    "### Just run to remember ..."
   ]
  },
  {
   "cell_type": "code",
   "execution_count": null,
   "metadata": {},
   "outputs": [],
   "source": [
    "a = 7\n",
    "b = 9\n",
    "\n",
    "# Arithmetic operators\n",
    "\n",
    "# Addition\n",
    "print('a + b =', a + b)\n",
    "# Subtraction\n",
    "print('a - b =', a - b)\n",
    "# Multiplication\n",
    "print('a * b =', a * b)\n",
    "# Division\n",
    "print('a / b =', a / b)\n",
    "# Modulus\n",
    "print('a % b =', a % b)\n",
    "# Floor Division\n",
    "print('a // b =', a // b)\n",
    "# Exponent\n",
    "print('a ** b =', a ** b)"
   ]
  },
  {
   "cell_type": "code",
   "execution_count": null,
   "metadata": {},
   "outputs": [],
   "source": [
    "a = 7\n",
    "b = 9\n",
    "\n",
    "# Comparison operators\n",
    "\n",
    "# Greater than\n",
    "print('a > b =', a > b)\n",
    "# Lesser than\n",
    "print('a < b =', a < b)\n",
    "# Equal to\n",
    "print('a == b =', a == b)\n",
    "# Not equal to\n",
    "print('a != b =', a != b)\n",
    "# Greater than or equal to\n",
    "print('a >= b =', a >= b)\n",
    "# Lesser than or equal to\n",
    "print('a <= b =', a <= b)"
   ]
  },
  {
   "cell_type": "code",
   "execution_count": null,
   "metadata": {},
   "outputs": [],
   "source": [
    "a = True\n",
    "b = False\n",
    "\n",
    "# Logic operators\n",
    "\n",
    "# Logical and\n",
    "print('a and b is', a and b)\n",
    "# Logical or\n",
    "print('a or b is', a or b)\n",
    "# Logical not\n",
    "print('not a is', not a)\n",
    "# on strings\n",
    "a = \"\"\n",
    "b = \"Python\"\n",
    "c = a and b\n",
    "print(c)\n",
    "c = a or b\n",
    "print(c)"
   ]
  },
  {
   "cell_type": "code",
   "execution_count": null,
   "metadata": {},
   "outputs": [],
   "source": [
    "a = 6\n",
    "b = 8\n",
    "\n",
    "# Bitwise operators\n",
    "\n",
    "# Bitwise AND\n",
    "print('a & b is', a & b)\n",
    "# Bitwise OR\n",
    "print('a | b is', a | b)\n",
    "# Bitwise XOR\n",
    "print('a ^ b is', a ^ b)\n",
    "# Bitwise NOT\n",
    "print('~a is', ~a)\n",
    "# Bitwise Left Shift\n",
    "print('a << b is', a << b)\n",
    "# Bitwise Right Shift\n",
    "print('a >> b is', a >> b)"
   ]
  },
  {
   "cell_type": "code",
   "execution_count": null,
   "metadata": {},
   "outputs": [],
   "source": [
    "a = 15\n",
    "b = 5\n",
    "\n",
    "# Assignment operators\n",
    "\n",
    "# Simple assignment operator\n",
    "b = a\n",
    "print('b = a: ',b)\n",
    "# ADD AND operator\n",
    "b += a\n",
    "print('b += a: ', b)\n",
    "# SUBTRACT AND operatpr\n",
    "b -= a\n",
    "print('b -= a: ', b)\n",
    "# MULTIPLICATION AND operator\n",
    "b *= a\n",
    "print('b *= a: ', b)\n",
    "# DIVISION AND operator\n",
    "b /= a\n",
    "print('b /= a: ', b)\n",
    "# FLOOR AND operator\n",
    "b //= a\n",
    "print('b //= a: ', b)\n",
    "# MODULUS AND operator\n",
    "b %= a\n",
    "print('b %= a: ', b)\n",
    "# EXPONENT AND operator\n",
    "b **= a\n",
    "print('b **= a: ', b)\n",
    "# LESS THAN AND operator\n",
    "b <= a\n",
    "print('b <= a: ', b)\n",
    "# GREATOR THAN AND operator\n",
    "b >= a\n",
    "print('b >= a: ', b)\n",
    "# BINARY AND operator\n",
    "a &= 5\n",
    "print('a &= 5: ', a)\n",
    "# BINARY OR operator\n",
    "a |= 5\n",
    "print('a |= 5: ', a)"
   ]
  },
  {
   "cell_type": "code",
   "execution_count": null,
   "metadata": {},
   "outputs": [],
   "source": [
    "a = 10\n",
    "b = 11\n",
    "# Identity is operator\n",
    "print('a is b is',a is b)\n",
    "# Identity is not operator\n",
    "print('a is not b is',a is not b)"
   ]
  },
  {
   "cell_type": "code",
   "execution_count": null,
   "metadata": {},
   "outputs": [],
   "source": [
    "a = 5\n",
    "b = 5\n",
    "c = a\n",
    "# Get the identity of a object: memory address in which an object is stored\n",
    "print(id(a))\n",
    "print(id(b))\n",
    "print(id(c))\n",
    "# Comparing the id of a and c\n",
    "print(a is c)\n",
    "print(a is b)"
   ]
  },
  {
   "cell_type": "code",
   "execution_count": null,
   "metadata": {},
   "outputs": [],
   "source": [
    "# Assigning a string value to a variable\n",
    "a = \"Python\"\n",
    "# Type of the variable\n",
    "print(type(a))\n",
    "# Checking whether 'y' is present in the variable a or not\n",
    "print('y' in a)\n",
    "# Checking whether 'P' is present in the variable a or not\n",
    "print('p' not in a)"
   ]
  },
  {
   "cell_type": "markdown",
   "metadata": {},
   "source": [
    "### Exercises"
   ]
  },
  {
   "cell_type": "markdown",
   "metadata": {},
   "source": [
    "1. The following script asks the user to enter a number of minutes and calculates the hours and minutes they are equivalent to. Enter in *\\<operator\\_1\\>* and *\\<operator\\_2\\>* the appropriate python operators."
   ]
  },
  {
   "cell_type": "code",
   "execution_count": null,
   "metadata": {},
   "outputs": [],
   "source": [
    "# Enter minutes\n",
    "minutes = int(input(\"Enter a number of minutes: \"))\n",
    "\n",
    "# Calculate of hours and minutes remaining\n",
    "hours_out = minutes <operator_1> 60\n",
    "minutes_out = minutes <operator_2> 60\n",
    "\n",
    "# Show result\n",
    "print(hours_out, \"hours and\", minutes_out, \"minute(s).\")\n"
   ]
  },
  {
   "cell_type": "markdown",
   "metadata": {},
   "source": [
    "2. The following script shows on the screen if a year entered by keyboard is a leap year or not. Complete it by including in *\\<cond\\_1\\>* the necessary condition. Note: a year is a leap year if it is a multiple of 4 and, either it is not a multiple of 100 or it is a multiple of 400."
   ]
  },
  {
   "cell_type": "code",
   "execution_count": null,
   "metadata": {},
   "outputs": [],
   "source": [
    "# Enter year\n",
    "year = int(input(\"Enter the year: \"))\n",
    "\n",
    "# Check and show whether or not it is a leap year\n",
    "if <cond_1>:\n",
    "    print(year, \"is a leap year.\")\n",
    "else:\n",
    "    print(year, \"is not a leap year.\")"
   ]
  },
  {
   "cell_type": "markdown",
   "metadata": {},
   "source": [
    "3. In the following script exchange the value of the two variables whose values are entered by keyboard. Solve the exercise with auxiliary variable and without it."
   ]
  },
  {
   "cell_type": "code",
   "execution_count": null,
   "metadata": {},
   "outputs": [],
   "source": [
    "# Enter two intergers\n",
    "num1 = int(input(\"Enter a first integer: \"))\n",
    "num2 = int(input(\"Enter a second integer: \"))\n",
    "\n",
    "# Swap variables here WITH an auxiliary variable\n",
    "\n",
    "\n",
    "\n",
    "# Show results\n",
    "print()\n",
    "print(\"First exchange:\")\n",
    "print(\"Value of first integer: \", num1)      \n",
    "print(\"Value of second integer: \", num2)\n",
    "print()\n",
    "\n",
    "# Now, swap the values here again WITHOUT using auxiliary variable\n",
    "\n",
    "      \n",
    "    \n",
    "\n",
    "# The values of the initial numbers must be retrieved\n",
    "print()\n",
    "print(\"Second exchange:\")\n",
    "print(\"Value of first integer: \", num1)\n",
    "print(\"Value of second integer: \", num2)\n",
    "print()"
   ]
  },
  {
   "cell_type": "markdown",
   "metadata": {},
   "source": [
    "## Output formatting"
   ]
  },
  {
   "cell_type": "markdown",
   "metadata": {},
   "source": [
    "### Exercises"
   ]
  },
  {
   "cell_type": "markdown",
   "metadata": {},
   "source": [
    "4. Run the following script that applies different ways to format the output of a string. For more information, click here: [Formatted output](https://python-course.eu/python-tutorial/formatted-output.php)."
   ]
  },
  {
   "cell_type": "code",
   "execution_count": null,
   "metadata": {},
   "outputs": [],
   "source": [
    "num1 = 2\n",
    "num2 = 3\n",
    "sum = num1 + num2\n",
    "\n",
    "# Using the string concatenation operator\n",
    "print('The sum of ' + str(num1) + ' and ' + str(num2) + ' is equal to ' + \\\n",
    "      str(sum))\n",
    "\n",
    "# Using print with a comma separated list of values\n",
    "print('The sum of', num1, 'and', num2 , 'is equal to', str(sum))\n",
    "\n",
    "# Using old-style formatting: string modulo operator (%)\n",
    "print('The sum of %d and %d is equal to %d' % (num1, num2, sum))\n",
    "\n",
    "# Using the string method \"format\"\n",
    "print('The sum of {} y {} is equal to {}'.format(num1, num2, sum))\n",
    "\n",
    "# Using f-string: The formatting syntax similar to str.format()\n",
    "# The replacement fields are expressions, which are evaluated at run time\n",
    "print(f'The sum of {num1} and {num2} is equal to {sum}') # f-string "
   ]
  },
  {
   "cell_type": "markdown",
   "metadata": {},
   "source": [
    "5. Run the following script where a numeric value is left, center, and right justified, respectively."
   ]
  },
  {
   "cell_type": "code",
   "execution_count": null,
   "metadata": {},
   "outputs": [],
   "source": [
    "score = 1024\n",
    "\n",
    "print('Original score value:', score)\n",
    "print('Left justified score:')\n",
    "print('{:<20}'.format(score))\n",
    "print('Center justified Score:')\n",
    "print('{:^20}'.format(score))\n",
    "print('Right justified score:')\n",
    "print('{:20}'.format(score)) # or also using :>20\n"
   ]
  },
  {
   "cell_type": "markdown",
   "metadata": {},
   "source": [
    "6. Run the following script that uses different format specifiers for numeric values."
   ]
  },
  {
   "cell_type": "code",
   "execution_count": null,
   "metadata": {},
   "outputs": [],
   "source": [
    "var_int = 1024\n",
    "var_real = 3.141592653589793\n",
    "\n",
    "print(var_int)\n",
    "print(var_real)\n",
    "\n",
    "print()\n",
    "\n",
    "# Traditional mechanism:\n",
    "print('%d' % var_int)\n",
    "print('%f' % var_real)\n",
    "print('%.10f' % var_real)\n",
    "print('%+15.10f' % var_real)\n",
    "\n",
    "print()\n",
    "\n",
    "# New mechanism:\n",
    "\n",
    "print('{:d}'.format(var_int))\n",
    "print('{:f}'.format(var_real))\n",
    "print('{:.10f}'.format(var_real))\n",
    "print('{:+15.10f}'.format(var_real))\n",
    "\n",
    "print()\n",
    "\n",
    "# Left alignment:\n",
    "\n",
    "print('{:<10d}integer'.format(var_int))\n",
    "print('{:<10f}real'.format(var_real))\n",
    "print('{:<10.10f}real'.format(var_real))\n",
    "print('{:+<15.10f}real'.format(var_real))\n",
    "\n",
    "# Right alignment:\n",
    "print()\n",
    "\n",
    "print('{:>10d}integer'.format(var_int))\n",
    "print('{:>10f}real'.format(var_real))\n",
    "print('{:>10.10f}real'.format(var_real))\n",
    "print('{:+>15.10f}real'.format(var_real))"
   ]
  },
  {
   "cell_type": "markdown",
   "metadata": {},
   "source": [
    "7. Run the following script that converts an integer to a hexadecimal value."
   ]
  },
  {
   "cell_type": "code",
   "execution_count": null,
   "metadata": {},
   "outputs": [],
   "source": [
    "for num in range(16):\n",
    "    print('Integer: {} - Hexadecimal: {}'.format(num, format(num, '#03x')))"
   ]
  },
  {
   "cell_type": "markdown",
   "metadata": {},
   "source": [
    "## Lists"
   ]
  },
  {
   "cell_type": "markdown",
   "metadata": {},
   "source": [
    "### Just run to remember ..."
   ]
  },
  {
   "cell_type": "markdown",
   "metadata": {},
   "source": [
    "**Create and manipulate lists**"
   ]
  },
  {
   "cell_type": "code",
   "execution_count": null,
   "metadata": {},
   "outputs": [],
   "source": [
    "a = [66.25, 333, 333, 1, 1234.5]"
   ]
  },
  {
   "cell_type": "code",
   "execution_count": null,
   "metadata": {},
   "outputs": [],
   "source": [
    "print(a.count(333), a.count(66.25), a.count('x'))"
   ]
  },
  {
   "cell_type": "code",
   "execution_count": null,
   "metadata": {},
   "outputs": [],
   "source": [
    "a.insert(2, -1)"
   ]
  },
  {
   "cell_type": "code",
   "execution_count": null,
   "metadata": {},
   "outputs": [],
   "source": [
    "a"
   ]
  },
  {
   "cell_type": "code",
   "execution_count": null,
   "metadata": {},
   "outputs": [],
   "source": [
    "a.append(333)"
   ]
  },
  {
   "cell_type": "code",
   "execution_count": null,
   "metadata": {},
   "outputs": [],
   "source": [
    "a"
   ]
  },
  {
   "cell_type": "code",
   "execution_count": null,
   "metadata": {},
   "outputs": [],
   "source": [
    "a.pop()"
   ]
  },
  {
   "cell_type": "code",
   "execution_count": null,
   "metadata": {},
   "outputs": [],
   "source": [
    "a"
   ]
  },
  {
   "cell_type": "code",
   "execution_count": null,
   "metadata": {},
   "outputs": [],
   "source": [
    "a.index(333)"
   ]
  },
  {
   "cell_type": "code",
   "execution_count": null,
   "metadata": {},
   "outputs": [],
   "source": [
    "a.remove(333)"
   ]
  },
  {
   "cell_type": "code",
   "execution_count": null,
   "metadata": {},
   "outputs": [],
   "source": [
    "a"
   ]
  },
  {
   "cell_type": "code",
   "execution_count": null,
   "metadata": {},
   "outputs": [],
   "source": [
    "a.reverse()"
   ]
  },
  {
   "cell_type": "code",
   "execution_count": null,
   "metadata": {},
   "outputs": [],
   "source": [
    "a"
   ]
  },
  {
   "cell_type": "code",
   "execution_count": null,
   "metadata": {},
   "outputs": [],
   "source": [
    "a.sort()"
   ]
  },
  {
   "cell_type": "code",
   "execution_count": null,
   "metadata": {},
   "outputs": [],
   "source": [
    "a"
   ]
  },
  {
   "cell_type": "markdown",
   "metadata": {},
   "source": [
    "**Slices**"
   ]
  },
  {
   "cell_type": "code",
   "execution_count": null,
   "metadata": {},
   "outputs": [],
   "source": [
    "t = [0, 1, 2, 3]\n",
    "print(t)\n",
    "print(len(t))\n",
    "print(t[1])\n",
    "print(t[1:3])\n",
    "print(t[2:])\n",
    "print(t[-1])\n",
    "print(t[:-1])\n",
    "print(t[:-3])"
   ]
  },
  {
   "cell_type": "markdown",
   "metadata": {},
   "source": [
    "**Delete items**"
   ]
  },
  {
   "cell_type": "code",
   "execution_count": null,
   "metadata": {},
   "outputs": [],
   "source": [
    "a = [-1, 1, 66.25, 333, 333, 1234.5]\n",
    "del a[0]\n",
    "a"
   ]
  },
  {
   "cell_type": "code",
   "execution_count": null,
   "metadata": {},
   "outputs": [],
   "source": [
    "del a[2:4]"
   ]
  },
  {
   "cell_type": "code",
   "execution_count": null,
   "metadata": {},
   "outputs": [],
   "source": [
    "a"
   ]
  },
  {
   "cell_type": "code",
   "execution_count": null,
   "metadata": {},
   "outputs": [],
   "source": [
    "del a[:]"
   ]
  },
  {
   "cell_type": "code",
   "execution_count": null,
   "metadata": {},
   "outputs": [],
   "source": [
    "a"
   ]
  },
  {
   "cell_type": "code",
   "execution_count": null,
   "metadata": {},
   "outputs": [],
   "source": [
    "del a"
   ]
  },
  {
   "cell_type": "markdown",
   "metadata": {},
   "source": [
    "### Exercises"
   ]
  },
  {
   "cell_type": "markdown",
   "metadata": {},
   "source": [
    "8. Complete in *\\<operator\\_1\\>* and *\\<operator\\_2\\>* the following script in which two lists are concatenated using an overloaded operator."
   ]
  },
  {
   "cell_type": "code",
   "execution_count": null,
   "metadata": {},
   "outputs": [],
   "source": [
    "list_1 = [1, 2, 3]\n",
    "list_2 = [4, 5, 6]\n",
    "\n",
    "print(list_1)\n",
    "print(list_2)\n",
    "\n",
    "# +\n",
    "\n",
    "list_3 = list_1 <operator_1> list_2\n",
    "\n",
    "print(list_3) # [1, 2, 3, 4, 5, 6]\n",
    "\n",
    "print()\n",
    "\n",
    "list_4 = list_2 <operator_2> list_1\n",
    "print(lista_4) # [4, 5, 6, 1, 2, 3]\n"
   ]
  },
  {
   "cell_type": "markdown",
   "metadata": {},
   "source": [
    "9. Complete in \\<slice\\_1\\> and \\<slice\\_2\\> the following script in which the positions of the even elements of two lists are selected using *slicing* notation."
   ]
  },
  {
   "cell_type": "code",
   "execution_count": null,
   "metadata": {},
   "outputs": [],
   "source": [
    "list_num = [2, 3, 5, 7, 11, 13, 17, 19, 23, 29]\n",
    "\n",
    "result = list_num<slice_1>\n",
    "\n",
    "print(list_num)\n",
    "print(result)\n",
    "\n",
    "print()\n",
    "\n",
    "lenguages = ['Python', 'JavaScript', 'C', 'Java', 'C++', 'PHP']\n",
    "result = lenguages<slice_2>\n",
    "\n",
    "print(lenguages)\n",
    "print(result)"
   ]
  },
  {
   "cell_type": "markdown",
   "metadata": {},
   "source": [
    "10. Complete in *\\<index\\_1\\>* the following script that adds elements to the beginning of a list with *slicing* notation."
   ]
  },
  {
   "cell_type": "code",
   "execution_count": null,
   "metadata": {},
   "outputs": [],
   "source": [
    "list_1 = [1, 2, 3, 4, 5]\n",
    "list_2 = [\"This\", \"is\", \"Python\"]\n",
    "\n",
    "print(list_1)\n",
    "print(list_2)\n",
    "\n",
    "print()\n",
    "\n",
    "# complete with index negative\n",
    "list_1[:<index_1>] = list_2\n",
    "\n",
    "print(list_1)\n"
   ]
  },
  {
   "cell_type": "markdown",
   "metadata": {},
   "source": [
    "11. Complete in *\\<index\\_1\\>* the following script that adds elements to the beginning of a list with *slicing* notation."
   ]
  },
  {
   "cell_type": "code",
   "execution_count": null,
   "metadata": {},
   "outputs": [],
   "source": [
    "list_1 = [24, 25, 26]\n",
    "list_2 = [21, 22, 23]\n",
    "\n",
    "print(list_1)\n",
    "print(list_2)\n",
    "\n",
    "list_1[:<index_1>] = list_2\n",
    "\n",
    "print()\n",
    "\n",
    "print(list_1)"
   ]
  },
  {
   "cell_type": "markdown",
   "metadata": {},
   "source": [
    "12. Complete in *\\<param\\_1\\>* and *\\<index\\_1\\>* the following script in which a list is joined at the end of another (use the *extend()* method). Later, the existence of various elements in the resulting list is checked. Finally, the third element is removed and the length of the list is calculated."
   ]
  },
  {
   "cell_type": "code",
   "execution_count": null,
   "metadata": {},
   "outputs": [],
   "source": [
    "myList1 = ['one', 'two', 'three']\n",
    "myList2 = ['four', 'five', 'six', 'seven', 'eight']\n",
    "\n",
    "\n",
    "# this concatenate myList2 to myList1 but without modifying myList\n",
    "print(myList1 + myList2)\n",
    "\n",
    "myList1.extend(<param_1>) #joins myList2 onto the end of myList1 \n",
    "print(myList1)\n",
    "\n",
    "# Check two items\n",
    "item = 'nine'\n",
    "isItem = item in myList1\n",
    "print(\"The item \", isItem, \" is in myList1? :\", isItem)\n",
    "\n",
    "item = 'eight'\n",
    "isItem = item in myList1\n",
    "print(\"The item \", isItem, \" is in myList1? :\", isItem)\n",
    "\n",
    "# delete the third element\n",
    "item3 = myList1.pop(<index_1>)\n",
    "print(len(myList1))"
   ]
  },
  {
   "cell_type": "markdown",
   "metadata": {},
   "source": [
    "13. Complete in *\\<iterable\\_1\\>* the following script in which the digits of a positive integer are added."
   ]
  },
  {
   "cell_type": "code",
   "execution_count": null,
   "metadata": {},
   "outputs": [],
   "source": [
    "num = input('Enter a positive integer: ')\n",
    "\n",
    "list_digits = list(num)\n",
    "\n",
    "print(list_digits)\n",
    "\n",
    "# list comprehension: It provides a way of defining each item according\n",
    "# to a expression (int(c)) applied to elements of an existing list\n",
    "sum_digits = sum([int(c) for c in <iterable_1>])\n",
    "\n",
    "print(sum_digits)"
   ]
  },
  {
   "cell_type": "markdown",
   "metadata": {},
   "source": [
    "14. Complete in *\\<slice\\_1\\>* the following script in which a copy of a list is created in two ways: 1) with *slicing* notation and, 2) with the *copy()* function."
   ]
  },
  {
   "cell_type": "code",
   "execution_count": null,
   "metadata": {},
   "outputs": [],
   "source": [
    "letters = list('PYTHON')\n",
    "print(letters)\n",
    "\n",
    "print()\n",
    "\n",
    "print('ID of letters:', id(letters))\n",
    "\n",
    "print()\n",
    "\n",
    "letters_2 = letters<slice_1>\n",
    "print(letters_2)\n",
    "print(id(letters_2))\n",
    "\n",
    "print()\n",
    "\n",
    "letters_3 = letters.copy()\n",
    "print(letters_3)\n",
    "print(id(letters_3))"
   ]
  },
  {
   "cell_type": "markdown",
   "metadata": {},
   "source": [
    "## Tuples"
   ]
  },
  {
   "cell_type": "markdown",
   "metadata": {},
   "source": [
    "### Just run to remember ..."
   ]
  },
  {
   "cell_type": "markdown",
   "metadata": {},
   "source": [
    "**Create and manipulate tuples**"
   ]
  },
  {
   "cell_type": "code",
   "execution_count": null,
   "metadata": {},
   "outputs": [],
   "source": [
    "tup1 = 1, 2, 3"
   ]
  },
  {
   "cell_type": "code",
   "execution_count": null,
   "metadata": {},
   "outputs": [],
   "source": [
    "tup1"
   ]
  },
  {
   "cell_type": "code",
   "execution_count": null,
   "metadata": {},
   "outputs": [],
   "source": [
    "tup1[0]"
   ]
  },
  {
   "cell_type": "code",
   "execution_count": null,
   "metadata": {},
   "outputs": [],
   "source": [
    "tup1[1:]"
   ]
  },
  {
   "cell_type": "code",
   "execution_count": null,
   "metadata": {},
   "outputs": [],
   "source": [
    "tup2 = (\"Hi\", 1.1, 2)"
   ]
  },
  {
   "cell_type": "code",
   "execution_count": null,
   "metadata": {},
   "outputs": [],
   "source": [
    "tup2"
   ]
  },
  {
   "cell_type": "code",
   "execution_count": null,
   "metadata": {},
   "outputs": [],
   "source": [
    "tup2 = (0, (1, 3), 2)"
   ]
  },
  {
   "cell_type": "code",
   "execution_count": null,
   "metadata": {},
   "outputs": [],
   "source": [
    "tup2"
   ]
  },
  {
   "cell_type": "code",
   "execution_count": null,
   "metadata": {},
   "outputs": [],
   "source": [
    "tuple1 = ('a', 'z', 'c')"
   ]
  },
  {
   "cell_type": "code",
   "execution_count": null,
   "metadata": {},
   "outputs": [],
   "source": [
    "tuple1"
   ]
  },
  {
   "cell_type": "code",
   "execution_count": null,
   "metadata": {},
   "outputs": [],
   "source": [
    "tuple1"
   ]
  },
  {
   "cell_type": "code",
   "execution_count": null,
   "metadata": {},
   "outputs": [],
   "source": [
    "tuple1[0] = 1 # beware, the tuple is an immutable type"
   ]
  },
  {
   "cell_type": "code",
   "execution_count": null,
   "metadata": {},
   "outputs": [],
   "source": [
    "tuple1.index('z')"
   ]
  },
  {
   "cell_type": "code",
   "execution_count": null,
   "metadata": {},
   "outputs": [],
   "source": [
    "tuple1 = ('1') # lo considera string\n",
    "type(tuple1)"
   ]
  },
  {
   "cell_type": "code",
   "execution_count": null,
   "metadata": {},
   "outputs": [],
   "source": [
    "tuple1 = ('1',)\n",
    "print(tuple1)\n",
    "type(tuple1)"
   ]
  },
  {
   "cell_type": "code",
   "execution_count": null,
   "metadata": {},
   "outputs": [],
   "source": [
    "del tuple1"
   ]
  },
  {
   "cell_type": "markdown",
   "metadata": {},
   "source": [
    "### Exercises"
   ]
  },
  {
   "cell_type": "markdown",
   "metadata": {},
   "source": [
    "15. Complete in *\\<var\\_1\\>* the following script in which different parts (tuples) of a list (*colors*) are stored in two variables."
   ]
  },
  {
   "cell_type": "code",
   "execution_count": null,
   "metadata": {},
   "outputs": [],
   "source": [
    "colors = [('Rojo', 'RGB(255, 0, 0)', '#FF0000'), ('Verde', 'RGB(0, 255, 0)', '#00FF00'), ('Azul', 'RGB(0, 0, 255)', '#0000FF')]\n",
    "\n",
    "red, green, blue = <var_1>\n",
    "\n",
    "print(colors)\n",
    "\n",
    "print(red)\n",
    "print(green)\n",
    "print(blue)"
   ]
  },
  {
   "cell_type": "markdown",
   "metadata": {},
   "source": [
    "16. Complete in *\\<var\\_1\\>* and *\\<var\\_2\\>* the following script in which two tuples are nested in a single one and different operations are performed on it."
   ]
  },
  {
   "cell_type": "code",
   "execution_count": null,
   "metadata": {},
   "outputs": [],
   "source": [
    "# Creating a first tuple and storing the values\n",
    "tuple1 = (\"Today's\", \"Date\", \"Is\", \"February\", 2022)\n",
    "print(tuple1)\n",
    "\n",
    "print(type(tuple1))\n",
    "\n",
    "# Creating a second tuple and storing the values\n",
    "tuple2 = (\"And\", \"Day\", \"Is\", \"Thursday\")\n",
    "print(tuple2)\n",
    "\n",
    "# Nesting two tuples as one tuple\n",
    "tuple_nest = <var_1>, <var_2>\n",
    "print(tuple_nest)\n",
    "\n",
    "# Number of times a value has appeared in a tuple\n",
    "print(tuple_nest.count(\"Is\"))\n",
    "\n",
    "# Tuples are immutable in nature. We can never change their values\n",
    "tuple_nest[0] = (\"Hi\") # error, comment out this line\n",
    "print(tuple_nest)\n",
    "\n",
    "item = 'DAY'\n",
    "isItem = item in tuple_nest\n",
    "print(\"The item \", item, \" is in\", tuple_nest, \"?:\", isItem)\n",
    "\n",
    "print(len(tuple_nest))"
   ]
  },
  {
   "cell_type": "markdown",
   "metadata": {},
   "source": [
    "17. Complete in *\\<sequence\\_1\\>* the following script that removes elements from a list that are found in certain indexes."
   ]
  },
  {
   "cell_type": "code",
   "execution_count": null,
   "metadata": {},
   "outputs": [],
   "source": [
    "languages = ['Python', 'JavaScript', 'C', 'Java', 'C++', 'PHP', 'C#']\n",
    "\n",
    "print(languages)\n",
    "\n",
    "indexes = (2, 4, 6)\n",
    "\n",
    "# List Comprehension for create a new list with a condition \"if\" \n",
    "# on how the items of an existing list are chose\n",
    "list_result = [languages[i] for i in range(len(languages)) if i not in <sequence_1>]\n",
    "\n",
    "print(list_result)"
   ]
  },
  {
   "cell_type": "markdown",
   "metadata": {},
   "source": [
    "## Dictionaries"
   ]
  },
  {
   "cell_type": "markdown",
   "metadata": {},
   "source": [
    "### Just run to remember ..."
   ]
  },
  {
   "cell_type": "markdown",
   "metadata": {},
   "source": [
    "**Create and manipulate tuples**"
   ]
  },
  {
   "cell_type": "code",
   "execution_count": null,
   "metadata": {
    "scrolled": true
   },
   "outputs": [],
   "source": [
    "myDictionary = {'January' : 1, 'February' : 2, 'March' : 3, 'June': 6}"
   ]
  },
  {
   "cell_type": "code",
   "execution_count": null,
   "metadata": {},
   "outputs": [],
   "source": [
    "myDictionary"
   ]
  },
  {
   "cell_type": "code",
   "execution_count": null,
   "metadata": {},
   "outputs": [],
   "source": [
    "myDictionary['April'] = 4"
   ]
  },
  {
   "cell_type": "code",
   "execution_count": null,
   "metadata": {},
   "outputs": [],
   "source": [
    "myDictionary"
   ]
  },
  {
   "cell_type": "code",
   "execution_count": null,
   "metadata": {},
   "outputs": [],
   "source": [
    "# If you try to access the key which is not declared in the dictionary \n",
    "# then an exception would be raised indicating no results found\n",
    "myDictionary['May']\n"
   ]
  },
  {
   "cell_type": "code",
   "execution_count": null,
   "metadata": {},
   "outputs": [],
   "source": [
    "value = myDictionary.get('April') # get value associated with 'April'\n",
    "print(value)\n",
    "\n",
    "# also like this\n",
    "value = myDictionary['April']\n",
    "print(value)"
   ]
  },
  {
   "cell_type": "code",
   "execution_count": null,
   "metadata": {},
   "outputs": [],
   "source": [
    "del myDictionary['April']"
   ]
  },
  {
   "cell_type": "code",
   "execution_count": null,
   "metadata": {},
   "outputs": [],
   "source": [
    "myDictionary"
   ]
  },
  {
   "cell_type": "code",
   "execution_count": null,
   "metadata": {},
   "outputs": [],
   "source": [
    "# Popping an item\n",
    "\n",
    "print(myDictionary.popitem())\n",
    "myDictionary"
   ]
  },
  {
   "cell_type": "code",
   "execution_count": null,
   "metadata": {},
   "outputs": [],
   "source": [
    "# Popping the value\n",
    "\n",
    "print(myDictionary.pop('January'))\n",
    "myDictionary"
   ]
  },
  {
   "cell_type": "code",
   "execution_count": null,
   "metadata": {},
   "outputs": [],
   "source": [
    "print(myDictionary.keys())\n",
    "print(myDictionary.values())"
   ]
  },
  {
   "cell_type": "code",
   "execution_count": null,
   "metadata": {},
   "outputs": [],
   "source": [
    "print(list(myDictionary.keys()))\n",
    "print(list(myDictionary.values()))"
   ]
  },
  {
   "cell_type": "code",
   "execution_count": null,
   "metadata": {},
   "outputs": [],
   "source": [
    "'February' in myDictionary"
   ]
  },
  {
   "cell_type": "code",
   "execution_count": null,
   "metadata": {},
   "outputs": [],
   "source": [
    "# Clearing the entire dictionary\n",
    "\n",
    "myDictionary.clear()\n",
    "print(myDictionary)"
   ]
  },
  {
   "cell_type": "code",
   "execution_count": null,
   "metadata": {},
   "outputs": [],
   "source": [
    "del myDictionary"
   ]
  },
  {
   "cell_type": "code",
   "execution_count": null,
   "metadata": {},
   "outputs": [],
   "source": [
    "dictionary = {'Name': 'John', 'Sex': 'Male', 'Age': 20, 'Height': 6, 'Occupation': 'Student'}\n",
    "print(dictionary)"
   ]
  },
  {
   "cell_type": "code",
   "execution_count": null,
   "metadata": {},
   "outputs": [],
   "source": [
    "# Iterating through the values. Likewise on elements of a list or tuple\n",
    "\n",
    "for i in dictionary: \n",
    "    print(dictionary[i])\n",
    "print()\n",
    "\n",
    "# Also like this\n",
    "\n",
    "for i in dictionary.values():\n",
    "    print(i)"
   ]
  },
  {
   "cell_type": "code",
   "execution_count": null,
   "metadata": {},
   "outputs": [],
   "source": [
    "# Iterating through the keys\n",
    "\n",
    "for i in dictionary:\n",
    "    print(i)\n",
    "print()\n",
    "\n",
    "for i in dictionary.keys():\n",
    "    print(i)"
   ]
  },
  {
   "cell_type": "code",
   "execution_count": null,
   "metadata": {},
   "outputs": [],
   "source": [
    "# Sorting in a ascending order\n",
    "\n",
    "print(sorted(dictionary))"
   ]
  },
  {
   "cell_type": "code",
   "execution_count": null,
   "metadata": {},
   "outputs": [],
   "source": [
    "# Sorting in a descending order\n",
    "\n",
    "print(sorted(dictionary, reverse = True))"
   ]
  },
  {
   "cell_type": "code",
   "execution_count": null,
   "metadata": {},
   "outputs": [],
   "source": [
    "# The all() in dictionary returns \"True\" if all keys of the dictionary \n",
    "# are true (or if the dictionary is empty).\n",
    "dictionary = {1: 20, 1: 53}\n",
    "print(all(dictionary))\n",
    "\n",
    "dictionary = {0: 20, 1: 53}\n",
    "print(all(dictionary))\n",
    "\n",
    "dictionary = {}\n",
    "print(all(dictionary))"
   ]
  },
  {
   "cell_type": "code",
   "execution_count": null,
   "metadata": {},
   "outputs": [],
   "source": [
    "# The any() in dictionary return \"True\" if any key of the dictionary \n",
    "# is true. If the dictionary is empty, return \"False\".\n",
    "dictionary = {0: 20, 1: 53}\n",
    "print(any(dictionary))\n",
    "\n",
    "dictionary = {0: 20, 0: 53}\n",
    "print(any(dictionary))\n",
    "\n",
    "dictionary = {}\n",
    "print(any(dictionary))"
   ]
  },
  {
   "cell_type": "markdown",
   "metadata": {},
   "source": [
    "### Exercises"
   ]
  },
  {
   "cell_type": "markdown",
   "metadata": {},
   "source": [
    "18. Complete in *\\<code\\_1\\>* the following script in which a dictionary is created with a dictionary comprehension. Note: A dictionary comprehension provides a way to define each value from its key, according to an expression"
   ]
  },
  {
   "cell_type": "code",
   "execution_count": null,
   "metadata": {},
   "outputs": [],
   "source": [
    "number = int(input('Enter multiplier: ')) # get multiplier from user\n",
    "\n",
    "# create the multiplication table with a dictionary comprehension\n",
    "table = {x : x * number for x in range(1, 11)} \n",
    "\n",
    "# Use a 'for' loop to print out a neatly formatted table\n",
    "for n in table:\n",
    "    print('%2i x %2i = %2i' %(n, number, <code_1>))\n",
    "    "
   ]
  },
  {
   "cell_type": "markdown",
   "metadata": {},
   "source": [
    "19. Complete in *\\<index\\_1\\>* and *\\<index\\_2\\>* the following script in which the list of values of the keys of a dictionary is sorted."
   ]
  },
  {
   "cell_type": "code",
   "execution_count": null,
   "metadata": {},
   "outputs": [],
   "source": [
    "dic_num = {'l1': [5, 3, 7], 'l2': [-7, -9, 0], 'l3': [13, 12, 9]}\n",
    "print(dic_num)\n",
    "\n",
    "dic_num = {k: sorted(v) for <index_1>, <index_2> in dic_num.items()}\n",
    "print(dic_num)\n"
   ]
  },
  {
   "cell_type": "markdown",
   "metadata": {},
   "source": [
    "20. Complete in *\\<key\\_1\\>* the following script that creates a lambda function to sort products stored in a dictionary in ascending order by the value of the key 'name'. Note: A lambda function is a small anonymous function. For more information, click here: [expressions oficial documentation](https://docs.python.org/3/reference/expressions.html). "
   ]
  },
  {
   "cell_type": "code",
   "execution_count": null,
   "metadata": {},
   "outputs": [],
   "source": [
    "products = [{'name': 'Keyboard', 'price': 55.9, 'color': 'Black'}, \\\n",
    "             {'name': 'Mouse', 'price': 25.9, 'color': 'Gray'}, \\\n",
    "             {'name': 'Display', 'price': 255.9, 'color': 'Black'}, \\\n",
    "             {'name': 'Mac', 'price': 755.9, 'color': 'Silver'}]\n",
    "\n",
    "print(products)\n",
    "\n",
    "print()\n",
    "\n",
    "# Sintaxis of lambda function: \n",
    "#    lambda arguments : expression\n",
    "products = sorted(products, key=lambda p: p[<key_1>])\n",
    "print(products)"
   ]
  },
  {
   "cell_type": "markdown",
   "metadata": {},
   "source": [
    "## Sets"
   ]
  },
  {
   "cell_type": "markdown",
   "metadata": {},
   "source": [
    "### Just run to remember ..."
   ]
  },
  {
   "cell_type": "markdown",
   "metadata": {},
   "source": [
    "**Create and manipulate tuples**"
   ]
  },
  {
   "cell_type": "code",
   "execution_count": null,
   "metadata": {},
   "outputs": [],
   "source": [
    "A = {'red', 'yellow', 'blue', 'green', 'pink'} # create a set\n",
    "B = {'white', 'yellow', 'blue', 'orange'} # create a set\n",
    "print('Set A is:')\n",
    "print(A)\n",
    "print()\n",
    "print('Set B is:')\n",
    "print(B)\n",
    "print()"
   ]
  },
  {
   "cell_type": "code",
   "execution_count": null,
   "metadata": {},
   "outputs": [],
   "source": [
    "unionAB = A.union(B); # A union B\n",
    "\n",
    "print('A union B is:')\n",
    "print(unionAB)\n",
    "print()\n",
    "\n",
    "intersectionAB = A.intersection(B); # A intersection B\n",
    "\n",
    "print('A intersection B is:')\n",
    "print(intersectionAB)\n",
    "print()\n",
    "\n",
    "differenceAB = A.difference(B); # A difference B\n",
    "print('A difference B is:')\n",
    "print(differenceAB)"
   ]
  },
  {
   "cell_type": "markdown",
   "metadata": {},
   "source": [
    "### Exercises"
   ]
  },
  {
   "cell_type": "markdown",
   "metadata": {},
   "source": [
    "21. Complete in *\\<operator\\_1\\>* the following script in which the difference of elements between two lists is calculated with an operator *overloading*."
   ]
  },
  {
   "cell_type": "code",
   "execution_count": null,
   "metadata": {},
   "outputs": [],
   "source": [
    "list1 = [1, 2, 3, 2, 4, 5]\n",
    "list2 = [1, 2, 7, 5]\n",
    "\n",
    "difference = set(list1) <operator_1> set(list2)\n",
    "\n",
    "print(difference)\n"
   ]
  },
  {
   "cell_type": "markdown",
   "metadata": {},
   "source": [
    "22. Complete in *\\<function\\_1\\>* the following script in which unique words are retrieved from a user-defined word list."
   ]
  },
  {
   "cell_type": "code",
   "execution_count": null,
   "metadata": {},
   "outputs": [],
   "source": [
    "string_input = input('Enter a group of words separated by commas: ')\n",
    "print(string_input)\n",
    "\n",
    "words = string_input.split(',')\n",
    "\n",
    "print(words)\n",
    "\n",
    "unique_words = list(<function_1>(words))\n",
    "\n",
    "print(unique_words)\n"
   ]
  },
  {
   "cell_type": "markdown",
   "metadata": {},
   "source": [
    "## Control statements"
   ]
  },
  {
   "cell_type": "markdown",
   "metadata": {},
   "source": [
    "### Conditional statements"
   ]
  },
  {
   "cell_type": "markdown",
   "metadata": {},
   "source": [
    "**Exercises**"
   ]
  },
  {
   "cell_type": "markdown",
   "metadata": {},
   "source": [
    "23. Complete in *\\<cond\\_1\\>* and *\\<code\\_block\\_1\\>* the following script in which the user is asked to enter a string and a message is displayed on the screen indicating whether or not it is a uppercase letter."
   ]
  },
  {
   "cell_type": "code",
   "execution_count": null,
   "metadata": {},
   "outputs": [],
   "source": [
    "char = input(\"Enter a string: \")\n",
    "\n",
    "# Is uppercase: method islower()\n",
    "if <cond_1> and char.isupper():\n",
    "    print(\"The string is a lowercase letter.\")\n",
    "<code_block_1>\n"
   ]
  },
  {
   "cell_type": "markdown",
   "metadata": {},
   "source": [
    "24. Complete in *\\<statement\\_1\\>* the following script in which three numbers are requested by keyboard, and the maximum of them is displayed on the screen. This task is done with and without the max() function. Note: See the use of max(), if necessary, on the Internet."
   ]
  },
  {
   "cell_type": "code",
   "execution_count": null,
   "metadata": {},
   "outputs": [],
   "source": [
    "num1 = int(input('Enter the first number: '))\n",
    "num2 = int(input('Enter the second number: '))\n",
    "num3 = int(input('Enter the third number: '))\n",
    "\n",
    "if num1 > num2:\n",
    "    if num1 > num3:\n",
    "        maxi = num1\n",
    "    else:\n",
    "        maxi = num3 \n",
    "else:\n",
    "    <statement_1>\n",
    "\n",
    "print('\\n\\nMaximum without max function: ' , maxi)\n",
    "\n",
    "# or in this other way\n",
    "maxi = max(num1, num2, num3)\n",
    "print(\"\\n\\nMaximum with max function: \", maxi)\n"
   ]
  },
  {
   "cell_type": "markdown",
   "metadata": {},
   "source": [
    "25. Complete in *\\<block\\_code\\_1\\>* and *\\<statement\\_1\\>* the following script in which the user is asked to enter a character and a message with the type of character is displayed on the screen: letter, digit, punctuation mark, a character other than the previous ones, or if the user has entered more than one character."
   ]
  },
  {
   "cell_type": "code",
   "execution_count": null,
   "metadata": {},
   "outputs": [],
   "source": [
    "ch = input(\"Give me a character: \")\n",
    "\n",
    "if len(ch) == 1:\n",
    "    if ch in \":.;()[]¿?¡!',\\\"-/—\":\n",
    "        print(\"It is a punctuation mark.\")\n",
    "    elif ch.isalpha():\n",
    "        print(\"It is a letter.\")\n",
    "    elif ch.isdigit():\n",
    "        print(\"It is a digit.\")\n",
    "    <block_code_1>\n",
    "else:\n",
    "    <statement_1>\n",
    "    "
   ]
  },
  {
   "cell_type": "markdown",
   "metadata": {},
   "source": [
    "### Loop statements"
   ]
  },
  {
   "cell_type": "markdown",
   "metadata": {},
   "source": [
    "26. Complete in *\\<var\\_1\\>* and *\\<iterable\\_1\\>* the following script in which the user is asked to enter a phrase and obtains the number of words it contains (separated by blanks)."
   ]
  },
  {
   "cell_type": "code",
   "execution_count": null,
   "metadata": {},
   "outputs": [],
   "source": [
    "in_string = input(\"Enter a phrase: \")\n",
    "\n",
    "prev_char = \" \"\n",
    "word_count = 0\n",
    "\n",
    "for <var_1> in <iterable_1>:\n",
    "    if char != \" \" and prev_char == \" \":\n",
    "        word_count += 1\n",
    "    prev_char = char\n",
    "\n",
    "print(\"Number of words:\", word_count)"
   ]
  },
  {
   "cell_type": "markdown",
   "metadata": {},
   "source": [
    "27. Complete in *\\<value\\_1\\>* and *\\<statement\\_1\\>* the following script in which a string is entered by keyboard and a message is printed on the screen about whether the string contains *any* vowel, or if, on the contrary, it contains only consonants. Also, uppercase and lowercase letters and accented vowels are considered to create a more complete script."
   ]
  },
  {
   "cell_type": "code",
   "execution_count": null,
   "metadata": {},
   "outputs": [],
   "source": [
    "string = input(\"Enter a string of characters: \")\n",
    "is_vowel = False\n",
    "\n",
    "\n",
    "for character in string:\n",
    "    character = character.lower()\n",
    "    if character in \"aáeéiíoóuú\":\n",
    "        is_vowel = <value_1>\n",
    "        <statement_1>\n",
    "\n",
    "if is_vowel:\n",
    "    print('The string has vowels')\n",
    "else:\n",
    "    print('The string only has consonants')"
   ]
  },
  {
   "cell_type": "markdown",
   "metadata": {},
   "source": [
    "28. Complete in *\\<var\\_1\\>* and *\\<var\\_2\\>* the following script in which a number is entered and the *Floyd's triangle* corresponding to that number is printed on the screen. For example, given the number 4, the *Floyd triangle* is the following:  \n",
    "> 1<br>\n",
    "> 2  3<br>\n",
    "> 4  5  6<br>\n",
    "> 7  8  9 10<br>"
   ]
  },
  {
   "cell_type": "code",
   "execution_count": null,
   "metadata": {},
   "outputs": [],
   "source": [
    "n_rows = int(input('Enter number of rows of the triangle: '))\n",
    "cont = 1\n",
    "\n",
    "for i in range(0, n_rows + 1):\n",
    "    str_row = ''\n",
    "    for j in range (0, <var_1>):\n",
    "        str_row += str(cont) + ' '\n",
    "        cont += 1\n",
    "    print(<var_2>)\n",
    "\n",
    "print('*' * 5 + ' Floyd\\'s triangle' ' + '*' * 5)\n"
   ]
  },
  {
   "cell_type": "markdown",
   "metadata": {},
   "source": [
    "29. Complete in *\\<cond\\_1\\>* and *\\<var\\_1\\>* the following script to add the first hundred numbers with a *while* loop and the result is printed on the screen."
   ]
  },
  {
   "cell_type": "code",
   "execution_count": null,
   "metadata": {},
   "outputs": [],
   "source": [
    "count_sum = 0\n",
    "i = 1\n",
    "\n",
    "while <cond_1>:\n",
    "    count_sum += <var_1>\n",
    "    i += 1\n",
    "print(count_sum)"
   ]
  },
  {
   "cell_type": "markdown",
   "metadata": {},
   "source": [
    "30. Complete in *\\<statement\\_1\\>* and *\\<statement\\_2\\>* the following script to store the numbers entered by keyboard in a list until it is a negative number. Once the list is created, it is sorted in reverse order using the *sorted()* function. Note: If necessary, consult the internet for the syntax and semantics of this function."
   ]
  },
  {
   "cell_type": "code",
   "execution_count": null,
   "metadata": {},
   "outputs": [],
   "source": [
    "num = int(input('Enter number. To finish, a negative one: '))\n",
    "<statement_1>\n",
    "\n",
    "while num >= 0:\n",
    "    listPositives.append(num)\n",
    "    <statement_2>\n",
    "\n",
    "print(sorted(listPositives, reverse=True))"
   ]
  },
  {
   "cell_type": "markdown",
   "metadata": {},
   "source": [
    "## Functions"
   ]
  },
  {
   "cell_type": "markdown",
   "metadata": {},
   "source": [
    "### Exercises"
   ]
  },
  {
   "cell_type": "markdown",
   "metadata": {},
   "source": [
    "31. Run the following code and understand why two different values are displayed on the screen for the variable *myname*. Read the comments to distinguish *global* and *local* variables."
   ]
  },
  {
   "cell_type": "code",
   "execution_count": null,
   "metadata": {},
   "outputs": [],
   "source": [
    "def print_name(myname):\n",
    "    # The parameter myname in the function header is local \n",
    "    # to the function (unlike global myname in line 20) and \n",
    "    # receives, in the function call, a copy of the reference \n",
    "    # to object \"Peter\" pointed to global myname (line 20)\n",
    "\n",
    "    print(id(myname))\n",
    "    print(\"Hellow, \" + myname)\n",
    "    \n",
    "    # the local variable myname changes id: it now points to \n",
    "    # the \"John\" object\n",
    "    myname = \"John\"\n",
    "    print(id(myname))\n",
    "    print(\"your new name is \" + myname)\n",
    "    \n",
    "    # The local variable myname (line 1) only exists during the \n",
    "    # execution of this function.\n",
    "\n",
    "# myname is parameter global\n",
    "myname = \"Peter\"\n",
    "\n",
    "# id() is a Python function that returns the memory address\n",
    "# where is the object \"Peter\" pointed by myname (line 20)\n",
    "print(id(myname))\n",
    "\n",
    "# call to function print_name\n",
    "print_name(myname)\n",
    "\n",
    "# The local parameter myname (line 1) no longer exists but \n",
    "# there is a global variable myname (line 20) pointing to \n",
    "# object \"Peter\"\n",
    "print(\"How are you, \" + myname)"
   ]
  },
  {
   "cell_type": "markdown",
   "metadata": {},
   "source": [
    "32. Run this code which displays the local variables of the function *functionX* and the number of them."
   ]
  },
  {
   "cell_type": "code",
   "execution_count": null,
   "metadata": {},
   "outputs": [],
   "source": [
    "# The variables a and b point to 1 and 2 object\n",
    "# when the function is called\n",
    "def functionX(a, b):\n",
    "    x = a\n",
    "    y = b\n",
    "    language = 'Python'\n",
    "    print(a, b)\n",
    "    print(x, y, language)\n",
    "\n",
    "# 1 and 2 are the actual parameters in the call to the function\n",
    "functionX(1, 2)\n",
    "\n",
    "# __code__.co_nlocals contains the number of local variables \n",
    "# of functionX\n",
    "print(functionX.__code__.co_nlocals)\n"
   ]
  },
  {
   "cell_type": "markdown",
   "metadata": {},
   "source": [
    "33. Complete in *\\<param\\_1\\>*, *\\<index\\_1\\>*, *\\<index\\_2\\>* and *\\<index\\_3\\>* the following script that converts a date entered by keyboard in the format *dd/mm/yy* to *yyyymmdd*."
   ]
  },
  {
   "cell_type": "code",
   "execution_count": null,
   "metadata": {},
   "outputs": [],
   "source": [
    "def conv_format_date(date_in):\n",
    "    parts_date = date_in.split('/')\n",
    "\n",
    "    return '{}{}{}'.format(parts_date[<index_1], \\\n",
    "                           parts_date[index_2], \\\n",
    "                           parts_date[index_3])\n",
    "\n",
    "in_date = input(\"Enter a date in dd/mm/yy format: \")\n",
    "print(conv_format_date(<param_1>))\n"
   ]
  },
  {
   "cell_type": "markdown",
   "metadata": {},
   "source": [
    "34. Complete in *\\<var\\_1\\>* and *\\<var\\_2\\>* the following script in which a sequence of numbers and an integer value to multiply each element of the sequence are entered by keyboard  and, by means of a function, the resulting list is obtained to be finally displayed on screen."
   ]
  },
  {
   "cell_type": "code",
   "execution_count": null,
   "metadata": {},
   "outputs": [],
   "source": [
    "def mul_n(listseq, valX):\n",
    "    for i in range(0, len(<var_1>)):\n",
    "        <var_1>[i] *= <var_2>\n",
    "\n",
    "num1 = int(input('Enter integer start of sequence: '))\n",
    "num2 = int(input('Enter integer end of sequence: '))\n",
    "\n",
    "listsequence = list(range(num1, num2))\n",
    "print(\"Lista inicial:\", listsequence)\n",
    "\n",
    "valueX = int(input(\"Enter value to multiply to the elements of the sequence: \"))\n",
    "\n",
    "mul_n(listsequence, valueX)\n",
    "\n",
    "print(\"\\nThe list of numbers after multiplying them by {0} is: \", \\\n",
    "      format(valueX))\n",
    "print(listsequence)"
   ]
  },
  {
   "cell_type": "markdown",
   "metadata": {},
   "source": [
    "35. Complete in *\\<call\\_function\\_1\\>* and *\\<return\\_1\\>* the following script in which a phrase is entered by keyboard and its shortest word is obtained and displayed on screen."
   ]
  },
  {
   "cell_type": "code",
   "execution_count": null,
   "metadata": {},
   "outputs": [],
   "source": [
    "def get_shortest_word(phrase):\n",
    "    list_words = phrase.split()\n",
    "    shortest_word = list_words[0]\n",
    "    \n",
    "    for i in range(1, len(list_words)):\n",
    "        if len(shortest_word) > len(list_words[i]):\n",
    "            shortest_word = list_words[i]\n",
    "    \n",
    "    return <return_1>\n",
    "\n",
    "\n",
    "phrase = input(\"Enter a phrase: \")\n",
    "\n",
    "if phrase.endswith(\".\"):\n",
    "    phrase = phrase[:-1]\n",
    "      \n",
    "shortest_word = get_shortest_word(<call_function_1>)\n",
    "\n",
    "print(\"The shortest word is:\", shortest_word)\n"
   ]
  },
  {
   "cell_type": "markdown",
   "metadata": {},
   "source": [
    "36. Complete in *\\<parameter\\_1\\>*, *\\<parameter\\_2\\>*, *\\<formal\\_param\\_1\\>*, *\\<formal\\_param\\_2\\>*, and *\\<return\\_1\\>* the following script in which the following algebraic expression is evaluated: $x^2 + 2xy + y^2$"
   ]
  },
  {
   "cell_type": "code",
   "execution_count": null,
   "metadata": {},
   "outputs": [],
   "source": [
    "def evaluate_expression(<formal_param_1>, <formal_param_2>):\n",
    "    \"\"\"\n",
    "    Solve the algebraic expression (x + y) * (x + y).\n",
    "    \"\"\"\n",
    "    return <return_1>\n",
    "\n",
    "\n",
    "x = float(input('Enter the value of x: '))\n",
    "y = float(input('Enter the value of y: '))\n",
    "\n",
    "print(evaluate_expression(<parameter_1>, <parameter_2>))\n"
   ]
  },
  {
   "cell_type": "markdown",
   "metadata": {},
   "source": [
    "37. Complete in *\\<return\\_1\\>* and *\\<call\\_function\\_1\\>* the following script that generates *n* random numbers guaranteed to be odd (by default, *n = 4*)."
   ]
  },
  {
   "cell_type": "code",
   "execution_count": null,
   "metadata": {},
   "outputs": [],
   "source": [
    "from random import randint\n",
    "\n",
    "\n",
    "def generate_odd(n = 4):\n",
    "    odd_numbers = []\n",
    "\n",
    "    while True:\n",
    "        \n",
    "        # the following is a comprehension list: short way to create\n",
    "        # a list applying an expression (radint) to each element of \n",
    "        # an iterable\n",
    "        # radint(1, 10): n random numbers between 1 and 10 are generated\n",
    "        random_numbers = [randint(1, 10) for i in range(n)]\n",
    "\n",
    "        # all function: returns true if all random numbers match:\n",
    "        # x % 2 == 1\n",
    "        if all(i % 2 == 1 for i in random_numbers):\n",
    "            odd_numbers = random_numbers\n",
    "            break\n",
    "    \n",
    "    return <return_1>\n",
    "\n",
    "# call generate_odd() taking default n = 5\n",
    "list_odd = generate_odd()\n",
    "\n",
    "print(list_odd)\n",
    "\n",
    "# call generate_odd() with 10\n",
    "print(<call_function_1>)"
   ]
  },
  {
   "cell_type": "markdown",
   "metadata": {},
   "source": [
    "38. Run the following script that applies an anonymous function (*lambda* function) and a *filter* function (to apply the lambda function to each element of a list of integers), to get the positive numbers from that list."
   ]
  },
  {
   "cell_type": "code",
   "execution_count": null,
   "metadata": {},
   "outputs": [],
   "source": [
    "numbers = [-1, 3, -2, 5, 6, 9, -8, -11]\n",
    "\n",
    "# anonymous function lambda\n",
    "# function filter: allows to apply the function lambda to numbers\n",
    "positives = list(filter(lambda x: x >= 0, numbers))\n",
    "\n",
    "print(positives)"
   ]
  },
  {
   "cell_type": "markdown",
   "metadata": {},
   "source": [
    "39. Complete in *\\<function\\_lambda\\_1\\>* the following script that asks the user to enter integers until a negative and gets the numbers divisible by 3 using an anonymous function."
   ]
  },
  {
   "cell_type": "code",
   "execution_count": null,
   "metadata": {},
   "outputs": [],
   "source": [
    "list_numbers = []\n",
    "number = int(input('Enter number. To finish, a negative: '))\n",
    "\n",
    "while (number >= 0):\n",
    "    list_numbers.append(number)\n",
    "    number = int(input('Enter number. To finish, a negative: '))\n",
    "\n",
    "# anonymous function lambda\n",
    "divisible_by_3 = <function_lambda_1>\n",
    "\n",
    "# function filter: allows to apply divisible_by_3 to list_numbers\n",
    "numbers_div_3 = filter(divisible_by_3, list_numbers)\n",
    "print(list(numbers_div_3))"
   ]
  },
  {
   "cell_type": "markdown",
   "metadata": {},
   "source": [
    "40. Complete in *\\<call\\_function\\_1\\>* the following script in which the mean of a variable number of integers is calculated using *arbitrary *args parameters*."
   ]
  },
  {
   "cell_type": "code",
   "execution_count": null,
   "metadata": {},
   "outputs": [],
   "source": [
    "def average_arbf(*numbers):\n",
    "    # *numbers collects the parameters in tuple format\n",
    "    \n",
    "    total = 0\n",
    "    for i in numbers:\n",
    "        total += i\n",
    "    \n",
    "    \n",
    "    if len(numbers) != 0:\n",
    "        average = total / len(numbers)\n",
    "    else:\n",
    "        average = 0\n",
    "    return average\n",
    "\n",
    "# Call the average_arbf function without arguments\n",
    "print(average_arbf())\n",
    "\n",
    "# *args requires calling the function with positional parameters\n",
    "print(average_arbf(1, 2, 3, 4, 5))\n",
    "\n",
    "# Again, call the average_arbf function with any \n",
    "# number of parameters\n",
    "print(<call_function_1>)\n",
    "\n",
    "\n"
   ]
  },
  {
   "cell_type": "markdown",
   "metadata": {},
   "source": [
    "41. Complete in *\\<call\\_function\\_1\\>* the following script that concatenates a variable number of strings using *arbitrary **args parameters*."
   ]
  },
  {
   "cell_type": "code",
   "execution_count": null,
   "metadata": {},
   "outputs": [],
   "source": [
    "def concatenate(**kwargs):\n",
    "    # **kwargs collects the parameters in dictionary format: \n",
    "    #     key:value pairs\n",
    "    result = \"\"\n",
    "    \n",
    "    # Iterating over the Python kwargs dictionary\n",
    "    for arg in kwargs.values():\n",
    "        result += arg\n",
    "    return result\n",
    "\n",
    "# Call the average_arbf function without arguments\n",
    "print(concatenate())\n",
    "\n",
    "# **kwargs requires calling the function with named parameters:\n",
    "# name=value\n",
    "print(concatenate(str1=\"Python\", str2=\" is\", str3=\" great\", str4=\"!\"))\n",
    "\n",
    "# Again, call the concatenate function with any number of parameters\n",
    "print(<call_function_1>)\n"
   ]
  },
  {
   "cell_type": "markdown",
   "metadata": {},
   "source": [
    "## Files\n",
    "\n",
    "You will need to download and uncompress [this file](https://github.com/dfbarrero/pythonCourse/raw/master/assignments/notebooks/sources.zip)."
   ]
  },
  {
   "cell_type": "markdown",
   "metadata": {},
   "source": [
    "### Exercises"
   ]
  },
  {
   "cell_type": "markdown",
   "metadata": {},
   "source": [
    "42. Complete in *\\<parameter\\_1\\>*, *\\<parameter\\_2\\>* and *\\<parameter\\_3\\>* the following script that writes a list of strings to a text file. For more information, click here: [I/O oficial documentation](https://docs.python.org/3/tutorial/inputoutput.html) de python."
   ]
  },
  {
   "cell_type": "code",
   "execution_count": null,
   "metadata": {},
   "outputs": [],
   "source": [
    "def write_list(path_file, names):\n",
    "    try:\n",
    "        with open(<parameter_1>, <parameter_2>, encoding='utf-8') as f:\n",
    "            for name in names:\n",
    "                f.write('{}\\n'.format(<parameter_3>))\n",
    "    except FileNotFoundError:\n",
    "        print('El archivo indicado no existe.')\n",
    "\n",
    "\n",
    "path_file = 'names.txt'\n",
    "names = ['Alice', 'Carl', 'Bob', 'John', 'Mark', 'Erik']\n",
    "\n",
    "write_list(path_file, names)"
   ]
  },
  {
   "cell_type": "markdown",
   "metadata": {},
   "source": [
    "43. Complete in *\\<parameter\\_1\\>* and *\\<parameter\\_2\\>* the following script that reads a file in blocks of 1024 bytes to count the total number of characters. You also get the number of microseconds it takes to execute the script. For more information, click here: [I/O oficial documentation](https://docs.python.org/3/tutorial/inputoutput.html) de python."
   ]
  },
  {
   "cell_type": "code",
   "execution_count": null,
   "metadata": {},
   "outputs": [],
   "source": [
    "from datetime import datetime\n",
    "\n",
    "start_dt = datetime.now()\n",
    "micro_start = start_dt.microsecond\n",
    "\n",
    "file_input = open('crimes.txt', <parameter_1>, encoding='utf-8')\n",
    "char_read = file_input.read(<parameter_2>)\n",
    "count_char = 0\n",
    "\n",
    "while char_read != '':\n",
    "    count_char += len(char_read)\n",
    "    char_read = file_input.read(<parameter_2>)\n",
    "file_input.close()\n",
    "\n",
    "print('=' * 40)\n",
    "print('The number of characters in the file is:  ', count_char)\n",
    "\n",
    "end_dt = datetime.now()\n",
    "micro_end = end_dt.microsecond\n",
    "\n",
    "print('Time to execute the script: ' + str(micro_end - micro_start) + ' \\u03BC\\s')\n"
   ]
  },
  {
   "cell_type": "markdown",
   "metadata": {},
   "source": [
    "44. Complete in *\\<parameter\\_1\\>* y *\\<delimiter\\_1\\>* the following script that reads a text file in csv format. For more information, click here: [csv oficial documentation](https://docs.python.org/3/library/csv.html) of the Python Standard Library"
   ]
  },
  {
   "cell_type": "code",
   "execution_count": null,
   "metadata": {},
   "outputs": [],
   "source": [
    "import csv\n",
    "\n",
    "file_path = 'companies.csv'\n",
    "\n",
    "with open(file_path, encoding='utf-8') as file_csv:\n",
    "    csv_reader = csv.reader(<parameter_1>, delimiter=<delimiter_1>)\n",
    "    line_count = 0\n",
    "    \n",
    "    for row in csv_reader:\n",
    "        if line_count == 0:\n",
    "            print(f'Column names are {\", \".join(row)}')\n",
    "            line_count += 1\n",
    "        else:\n",
    "            print(f'\\t{row[1]} with the symbol {row[2]} has a market value of {row[3]} and belongs to sector {row[4]}.')\n",
    "            line_count += 1\n",
    "    print(f'Processed {line_count} lines.')"
   ]
  },
  {
   "cell_type": "markdown",
   "metadata": {},
   "source": [
    "45. Complete in *\\<key\\_1\\>* and *\\<key\\_2\\>* the following script that reads a text file in csv format into a dictionary and displays the value of the columns on the screen. For more information, click here: [csv oficial documentation](https://docs.python.org/3/library/csv.html) of the Python Standard Library."
   ]
  },
  {
   "cell_type": "code",
   "execution_count": null,
   "metadata": {},
   "outputs": [],
   "source": [
    "import csv\n",
    "\n",
    "file_path = 'companies.csv'\n",
    "\n",
    "with open(file_path, encoding='utf-8') as file_csv:\n",
    "    csv_reader = csv.DictReader(file_csv)\n",
    "    line_count = 0\n",
    "    for row in csv_reader:\n",
    "        if line_count == 0:\n",
    "            print(f'Column names are {\", \".join(row)}')\n",
    "            line_count += 1\n",
    "        print(f'\\t{row[<key_1>]} with the symbol {row[<key_2>]} has a market value of {row[\"mkt_value\"]} and belongs to sector {row[\"sector\"]}.')\n",
    "        line_count += 1\n",
    "    print(f'Processed {line_count} lines.')\n"
   ]
  },
  {
   "cell_type": "markdown",
   "metadata": {},
   "source": [
    "46. Complete in *\\<method\\_1\\>* and *\\<parameter\\_1\\>* the following script in which the lines of the file *crimes.csv* are read to be stored in a second file *vandalism.csv* after replacing the field separator ',' with a blank character, ' '. In addition, the number of times \"VANDALISM\" appears and the time it takes for the program to run is calculated. For more information, click here: [csv oficial documentation](https://docs.python.org/3/library/csv.html) of the Python Standard Library."
   ]
  },
  {
   "cell_type": "code",
   "execution_count": null,
   "metadata": {},
   "outputs": [],
   "source": [
    "#Se importa el módulo csv y time.\n",
    "import csv\n",
    "import time\n",
    "\n",
    "# time_init references the initial time.\n",
    "time_init = time.time()\n",
    "count_vandalism = 0\n",
    "\n",
    "# Open crimes.csv for reading and vandalism.csv for writing\n",
    "with open ('crimes.csv','r') as file1:\n",
    "    with open ('vandalism.csv','w') as file2:\n",
    "        csv_input = csv.reader (file1, delimiter = ',')\n",
    "        csv_output = csv.writer (file2, delimiter = ' ', quotechar = ' ')\n",
    "        \n",
    "        for row in csv_input: \n",
    "            # row1 references a line from crimes.csv \n",
    "            # replacing its ',' separator with ' '\n",
    "            row1 = ' '.join(row)\n",
    "        \n",
    "            # If there is \"VANDALISM\" on the line (one per line), \n",
    "            # 1 is added to the counter\n",
    "            if 'VANDALISM' in row1:\n",
    "                count_vandalism += 1\n",
    "                \n",
    "            # write line (row1) to file\n",
    "            csv_output.<method_1>(<parameter_1>)\n",
    "            \n",
    "print('The word VANDALISM appears', count_vandalism, 'times.')\n",
    "            \n",
    "# time_end references the end time \n",
    "time_end = time.time()\n",
    "\n",
    "print(\"Execution time:\", (time_end - time1_init) ** 3, \"ms.\")"
   ]
  },
  {
   "cell_type": "markdown",
   "metadata": {},
   "source": [
    "## Exceptions"
   ]
  },
  {
   "cell_type": "markdown",
   "metadata": {},
   "source": [
    "### Exercises"
   ]
  },
  {
   "cell_type": "markdown",
   "metadata": {},
   "source": [
    "47. Complete in *\\<value\\_to\\_raise\\_assertion\\_1\\>* the following script that converts speed in km/hr to m/s using statement assert to lets you test if a condition in your code returns True; if not, the program will raise an *AssertionError*. For more information, click here: [simple statements](https://docs.python.org/3/reference/simple_stmts.html#the-assert-statement) of Python documentation."
   ]
  },
  {
   "cell_type": "code",
   "execution_count": null,
   "metadata": {},
   "outputs": [],
   "source": [
    "def kmh_to_ms(speed):\n",
    "    \"\"\"Convert speed in km/hr to m/s\"\"\"\n",
    "    assert speed >= 0.0, 'Wind speed values must be zero or positive'\n",
    "    assert speed <= 408.0, 'Wind speed exceeds the measured limit'\n",
    "    return speed * 1000 / 3600\n",
    "\n",
    "wind_speed_km = <value_to_raise_assertion_1>\n",
    "wind_speed_ms = kmh_to_ms(wind_speed_km)\n",
    "\n",
    "print('A wind speed of', wind_speed_km, 'km/hr is', wind_speed_ms, 'm/s.')"
   ]
  },
  {
   "cell_type": "markdown",
   "metadata": {},
   "source": [
    "48. Complete in *\\<block\\_1\\>* and *\\<block\\_2\\>* the following script that calculates the area of a triangle. For more information, click here: [errors and exceptions](https://docs.python.org/3/tutorial/errors.html) of Python documentation."
   ]
  },
  {
   "cell_type": "code",
   "execution_count": null,
   "metadata": {},
   "outputs": [],
   "source": [
    "while True:\n",
    "    try:\n",
    "        base = float(input('Enter the base of the triangle: '))\n",
    "        break\n",
    "    except:\n",
    "        print('You must write a number.')\n",
    "\n",
    "while True:\n",
    "    <block_1>:\n",
    "        height = float(input('Enter the height of the triangle: '))\n",
    "        break\n",
    "    <block_2>:\n",
    "        print('You must write a number.')\n",
    "\n",
    "\n",
    "area = base * height / 2\n",
    "\n",
    "print('The area of the triangle is: {}'.format(area))"
   ]
  },
  {
   "cell_type": "markdown",
   "metadata": {},
   "source": [
    "49. Complete in *\\<type\\_exception\\_1>* the following script that creates a function to **only** add integers. For more information, click here: [errors and exceptions](https://docs.python.org/3/tutorial/errors.html) of Python documentation."
   ]
  },
  {
   "cell_type": "code",
   "execution_count": null,
   "metadata": {},
   "outputs": [],
   "source": [
    "def add_int(x, y):\n",
    "    \"\"\"\n",
    "    Add two numbers validating that they are integers.\n",
    "    \"\"\"\n",
    "    if isinstance(x, int) and isinstance(y, int):\n",
    "        return x + y\n",
    "    else:\n",
    "        # the error is propagated to the code that called thisLos valores deben ser enteros function\n",
    "        raise <type_exception_1>('Values must be integers.')\n",
    "\n",
    "\n",
    "try:\n",
    "    num1 = int(input('Enter the first value: '))\n",
    "    num2 = int(input('Enter the second value: '))\n",
    "    print(add_int(num1, num2))\n",
    "    \n",
    "    num1 = int(input('Enter the first value: '))\n",
    "    num2 = input('Enter the second value: ')\n",
    "    print(add_int(num1, num2))\n",
    "    \n",
    "except <type_exception_1> as e:\n",
    "    print(e)"
   ]
  },
  {
   "cell_type": "markdown",
   "metadata": {},
   "source": [
    "50. Complete in *\\<type\\_exception\\_1>* the following script creating a function that gives the user up to six attempts to enter an integer value. If not, it displays an error message.  For more information, click here: [errors and exceptions](https://docs.python.org/3/tutorial/errors.html) of Python documentation."
   ]
  },
  {
   "cell_type": "code",
   "execution_count": null,
   "metadata": {},
   "outputs": [],
   "source": [
    "def read_int():\n",
    "   \n",
    "    num_attempts = 0\n",
    "    while num_attempts < 6:\n",
    "        number_in = input(\"Enter a integer number: \")\n",
    "        try:\n",
    "            number_in = int(number_in)\n",
    "            return number_in\n",
    "        except <type_exception_1>:\n",
    "            num_attempts +=1\n",
    "    raise(<type_exception_1>, \"Incorrect value entered\")\n",
    "try:\n",
    "    read_int()\n",
    "except:\n",
    "    print(\"Error, incorrect value\")"
   ]
  },
  {
   "cell_type": "markdown",
   "metadata": {},
   "source": [
    "51. Complete in *\\<type_exception\\_1\\>* and *\\<type_exception\\_2\\>*  the following script that gets the index of an element of a list and one of them is removed. For more information, click here: [errors and exceptions](https://docs.python.org/3/tutorial/errors.html) of Python documentation."
   ]
  },
  {
   "cell_type": "code",
   "execution_count": null,
   "metadata": {},
   "outputs": [],
   "source": [
    "languages = ['Python', 'C#', 'JavaScript', 'C', 'C++', 'Java', 'PHP']\n",
    "\n",
    "index1 = languages.index('JavaScript')\n",
    "\n",
    "print(index1)\n",
    "\n",
    "try:\n",
    "    language = input(\"Enter a language: \")\n",
    "    index1 = languages.index(language)\n",
    "    print(index1)\n",
    "    position = int(input(\"Enter the position of element to remove: \"))\n",
    "    languages.pop(position)\n",
    "except (<type_exception_1>, \\<type_exception_2>) as e:\n",
    "    print('An error has occurred:', e)\n",
    "else:\n",
    "    print('All operations ok!')\n"
   ]
  },
  {
   "cell_type": "markdown",
   "metadata": {},
   "source": [
    "52. Complete in *\\<type_exception\\_1\\>* the following script that removes line breaks from the contents of a file. For more information, click here: [errors and exceptions](https://docs.python.org/3/tutorial/errors.html) of Python documentation."
   ]
  },
  {
   "cell_type": "code",
   "execution_count": null,
   "metadata": {},
   "outputs": [],
   "source": [
    "def remove_line_breaks(file):\n",
    "    try:\n",
    "        with open(file, 'r', encoding='utf-8') as f:\n",
    "            lines = f.readlines()\n",
    "            lines = list(map(lambda l: l.rstrip('\\n'), lines))\n",
    "\n",
    "            return lines\n",
    "        \n",
    "    except <type_exception_1>:\n",
    "        print('The specified file does not exist.')\n",
    "    \n",
    "    except Exception as e:\n",
    "        print(\"Oops!\", e.__class__, \"occurred.\")\n",
    "        print()\n",
    "\n",
    "result = remove_line_breaks('cities.txt')\n",
    "\n",
    "print(result)\n"
   ]
  },
  {
   "cell_type": "markdown",
   "metadata": {},
   "source": [
    "53. Complete in *\\<type_exception\\_1\\>* the following script that handles different types of exceptions when the user selects an item from a list. For more information, click here: [errors and exceptions](https://docs.python.org/3/tutorial/errors.html) of Python documentation."
   ]
  },
  {
   "cell_type": "code",
   "execution_count": null,
   "metadata": {},
   "outputs": [],
   "source": [
    "def select_fruit(list_fruits):\n",
    "    try:\n",
    "        print(list_fruits)\n",
    "        index = int(input(\"What is your favorite fruit? \"))\n",
    "        print(f\"Your favorite fruit is: {list_fruits[index]}\")\n",
    "    except <type_exception_1>:\n",
    "        print(\"That position does not exist!\")\n",
    "    except ValueError:\n",
    "        print(f\"Enter a number between 0 and {len(list_fruits) - 1}\")\n",
    "\n",
    "fruits = [\"0-Apple\", \"1-Pear\", \"2-Banana\", \"3-Orange\", \"4-Peach\"]\n",
    "\n",
    "select_fruit(fruits)"
   ]
  },
  {
   "cell_type": "markdown",
   "metadata": {},
   "source": [
    "54. Complete in *\\<block\\_1\\>* the following script script that adds the numbers entered by the user separated by whitespace. For more information, click here: [errors and exceptions](https://docs.python.org/3/tutorial/errors.html) of Python documentation."
   ]
  },
  {
   "cell_type": "code",
   "execution_count": null,
   "metadata": {},
   "outputs": [],
   "source": [
    "while True:\n",
    "    try:\n",
    "        total = 0\n",
    "        addends = input(\"Enter values to be added separated by spaces: \")\n",
    "        addends = addends.split()\n",
    "        \n",
    "        for num in addends:\n",
    "            total += float(num)\n",
    "            #else:\n",
    "            #   raise ValueError(\"The value is not numeric.\")\n",
    "                \n",
    "    except ValueError:\n",
    "        print(\"The value is not numeric.\")\n",
    "        print(\"Please re-enter them.\")\n",
    "        continue\n",
    "    else:\n",
    "        print(f\"The sum total is {total}\")\n",
    "        break\n",
    "    <block_1>:\n",
    "        print(\"Checking your input data is over...\")"
   ]
  },
  {
   "cell_type": "markdown",
   "metadata": {},
   "source": [
    "## SOLUTIONS"
   ]
  },
  {
   "cell_type": "markdown",
   "metadata": {},
   "source": [
    "**Exercise 1.**  \n",
    "\\<operator\\_1\\>: //  \n",
    "\\<operator\\_2>: %\n",
    "\n",
    "**Exercise 2.**  \n",
    "\\<cond\\_1\\>: (year % 4 == 0) and ((year % 100 != 0) or (year % 400 == 0))  \n",
    "\n",
    "**Exercise 3.**  \n",
    "aux = num1  \n",
    "num1 = num2  \n",
    "num2 = aux  \n",
    "\n",
    "num1, num2 = num2, num1  \n",
    "\n",
    "**Exercise 4.**  \n",
    "Run the script to learn different ways to format the output of a string  \n",
    "\n",
    "**Exercise 5.**  \n",
    "Run the script to learn how to left, right, or center justify a numeric value.  \n",
    "\n",
    "**Exercise 6.**  \n",
    "Run the script to learn different format specifiers for numeric values.  \n",
    "\n",
    "**Exercise 7.**  \n",
    "Run the script that converts an integer to a hexadecimal value.  \n",
    "**Exercise 8.**  \n",
    "\\<operator\\_1\\> and \\<operator\\_2> : <code>+</code>  \n",
    "\n",
    "**Exercise 9.**  \n",
    "\\<slice\\_1\\> and \\<slice\\_2> : <code>[::2]</code>  \n",
    "\n",
    "**Exercise 10.**  \n",
    "\\<index\\_1\\>: <code>-5</code>  \n",
    "\n",
    "**Exercise 11.**  \n",
    "\\<index\\_1\\>: <code>0</code>  \n",
    "\n",
    "**Exercise 12.**  \n",
    "\\<param\\_1\\>: <code>myList2</code>\n",
    "\\<index\\_1\\>: <code>2</code>  \n",
    "\n",
    "**Exercise 13.**  \n",
    "\\<iterable\\_1\\>: <code>list_digits</code>  \n",
    "\n",
    "**Exercise 14.**  \n",
    "\\<slice\\_1\\>: <code>[:]</code>  \n",
    "\n",
    "**Exercise 15.**  \n",
    "\\<var\\_1\\>: <code>colors</code>  \n",
    "\n",
    "**Exercise 16.**  \n",
    "\\<var\\_1\\>, \\<var\\_2\\>: <code>tuple1</code>, <code>tuple2</code>  \n",
    "\n",
    "**Exercise 17.**  \n",
    "\\<sequence\\_1\\>: <code>indexes</code>  \n",
    "\n",
    "**Exercise 18.**  \n",
    "\\<code\\_1\\>: <code>table[n]</code>  \n",
    "\n",
    "**Exercise 19.**  \n",
    "\\<index\\_1>, \\<index\\_2\\>: <code>k, v</code>  \n",
    "\n",
    "**Exercise 20.**  \n",
    "\\<key\\_1\\>: <code>'name'</code>  \n",
    "\n",
    "**Exercise 21.**  \n",
    "\\<operator\\_1\\>: <code>-</code>  \n",
    "\n",
    "**Exercise 22.**  \n",
    "\\<function\\_1\\>: <code>set</code>  \n",
    "\n",
    "**Exercise 23.**  \n",
    "\\<cond\\_1\\>: <code>len(char) == 1</code>  \n",
    "\\<block\\_code\\_1\\>:  \n",
    "<code>\n",
    "    else:\n",
    "       print(\"The string is not a lowercase letter.\") \n",
    "</code>  \n",
    "\n",
    "**Exercise 24.**  \n",
    " \\<statement\\_1\\>:  \n",
    "<code>\n",
    "    if b > c:\n",
    "       maximo = b\n",
    "    else:\n",
    "       maximo = c\n",
    "</code>\n",
    "\n",
    "**Exercise 25.**  \n",
    "\\<block\\_code\\_1>:\n",
    "<code>\n",
    "    else:\n",
    "       print(\"It is a character other than a punctuation mark,\\\n",
    "              letter, or number.\")\n",
    "</code>  \n",
    "\n",
    "\\<statement\\_1>:\n",
    "<code>\n",
    "    print(\"Not a single character\")\n",
    "</code>\n",
    "\n",
    "**Exercise 26.**  \n",
    "\\<var\\_1\\>: <code>char</code>  \n",
    "\\<iterable\\_1\\>: <code>in_string</code>  \n",
    "\n",
    "**Exercise 27.**  \n",
    "\\<value\\_1\\>: <code>True</code>  \n",
    "\\<statement\\_1\\>: <code>break</code>  \n",
    "\n",
    "**Exercise 28.**  \n",
    "\\<var\\_1\\>: <code>i</code>  \n",
    "\\<var\\_2\\>:<code>str_row</code>  \n",
    "\n",
    "**Exercise 29.**  \n",
    "\\<cond\\_1\\>: ``i <= 100``  \n",
    "\\<var\\_2\\>: <code>i</code>  \n",
    "    \n",
    "**Exercise 30.**  \n",
    "\\<statement\\_1\\>: <code>listPositives = []</code>  \n",
    "\\<statement\\_2\\>:\n",
    "<code>\n",
    "    num = int(input('Enter number. To finish, a negative one: '))\n",
    "</code>  \n",
    "\n",
    "**Exercise 31.**  \n",
    "\\<statement\\_1\\>: <code>listPositives = []</code>  \n",
    "\\<statement\\_2\\>:\n",
    "<code>\n",
    "    num = int(input('Enter number. To finish, a negative one: '))\n",
    "</code>  \n",
    "\n",
    "**Exercise 32.**  \n",
    "Run the script to learn to distinguish local and global variables in python.  \n",
    "\n",
    "**Exercise 33.**  \n",
    "\\<param\\_1\\>: <code>in_date</code>  \n",
    "\\<index\\_1\\>:<code>2</code>  \n",
    "\\<index\\_2\\>:<code>1</code>  \n",
    "\\<index\\_3\\>:<code>0</code>  \n",
    "\n",
    "**Exercise 34.**  \n",
    "\\<var\\_1\\>: <code>listseq</code>  \n",
    "\\<var\\_2\\>:<code>value</code>  \n",
    "\n",
    "**Exercise 35.**  \n",
    "\\<call\\_function\\_1\\>: <code>phrase</code>  \n",
    "\\<return\\_1\\>:<code>shortest_word</code>  \n",
    "\n",
    "**Exercise 36.**  \n",
    "\\<parameter\\_1\\>: <code>x</code>  \n",
    "\\<parameter\\_2\\>:<code>y</code>  \n",
    "\\<formal_param\\_1\\>:<code>x</code>  \n",
    "\\<formal_param\\_2\\>:<code>y</code> \n",
    "\\<return\\_1\\>:<code>x ** 2 + 2 * x * y + y ** 2</code>  \n",
    "\n",
    "**Exercise 37.**  \n",
    "\\<call\\_function\\_1\\>: <code>generate_odd(22)</code>  \n",
    "\\<return\\_1\\>:<code>odd_numbers</code>  \n",
    "\n",
    "**Exercise 38.**  \n",
    "Run the script to learn to apply an anonymous function (*lambda* function) and a *filter* function.  \n",
    "\n",
    "**Exercise 39.**  \n",
    "\\<function\\_lambda\\_1\\>:\n",
    "<code>\n",
    "    lambda x: x % 3 == 0\n",
    "</code>  \n",
    "\n",
    "**Exercise 40.**  \n",
    "For example, \\<call\\_function\\_1\\>:\n",
    "<code>\n",
    "    average_arbf(8, 4, 2)\n",
    "</code>  \n",
    "\n",
    "**Exercise 41.**  \n",
    "For example:\n",
    "<code>\n",
    "    concatenate(string1=\" Good\", string2=\" afternoon\", string3=\"everyone.\")\n",
    "</code>  \n",
    "\n",
    "**Exercise 42.**  \n",
    "\\<parameter\\_1\\>: <code>path_file</code>  \n",
    "\\<parameter\\_2\\>:<code>'w'</code>  \n",
    "\\<formal_param\\_1\\>:<code>name</code>  \n",
    "\n",
    "**Exercise 43.**  \n",
    "\\<parameter\\_1\\>: <code>'r'</code>  \n",
    "\\<parameter\\_2\\>:<code>1024</code>  \n",
    "\n",
    "**Exercise 44.**  \n",
    "\\<parameter\\_1\\>: <code>file_csv</code>  \n",
    "\\<delimiter\\_1\\>:<code>','</code>  \n",
    "\n",
    "**Exercise 45.**  \n",
    "\\<key\\_1\\>: <code>\"name\"</code>  \n",
    "\\<delimiter\\_1\\>:<code>\"symbol\"</code>  \n",
    "\n",
    "**Exercise 46.**  \n",
    "\\<method\\_1\\>: <code>writerow</code>  \n",
    "\\<parameter\\_1\\>:<code>row</code>  \n",
    "\n",
    "**Exercise 47.**  \n",
    "\\<value\\_to\\_raise\\_assertion\\_1\\>:<code>'409'</code>  \n",
    "\n",
    "**Exercise 48.**  \n",
    "\\<block\\_1\\>:<code>try</code>  \n",
    "\\<block\\_2\\>:<code>except</code>  \n",
    "\n",
    "**Exercise 49.**  \n",
    "\\<type\\_exception\\_1>:<code>TypeError</code>  \n",
    "\n",
    "**Exercise 50.**  \n",
    "\\<type\\_exception\\_1>:<code>ValueError</code>  \n",
    "\n",
    "**Exercise 51.**  \n",
    "\\<type\\_exception\\_1>:<code>ValueError</code> \n",
    "\\<type\\_exception\\_2>:<code>IndexError</code>  \n",
    "\n",
    "**Exercise 52.**  \n",
    "<type_exception_1>:<code>FileNotFoundError</code>  \n",
    "\n",
    "**Exercise 53.**  \n",
    "\\<type\\_exception\\_1>:<code>IndexError</code>  \n",
    "\n",
    "**Exercise 54.**  \n",
    "<block_1>:<code>finally</code> \n"
   ]
  }
 ],
 "metadata": {
  "kernelspec": {
   "display_name": "Python 3",
   "language": "python",
   "name": "python3"
  },
  "language_info": {
   "codemirror_mode": {
    "name": "ipython",
    "version": 3
   },
   "file_extension": ".py",
   "mimetype": "text/x-python",
   "name": "python",
   "nbconvert_exporter": "python",
   "pygments_lexer": "ipython3",
   "version": "3.7.9"
  }
 },
 "nbformat": 4,
 "nbformat_minor": 4
}
